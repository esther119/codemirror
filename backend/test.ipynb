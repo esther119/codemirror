{
 "cells": [
  {
   "cell_type": "code",
   "execution_count": 25,
   "metadata": {},
   "outputs": [
    {
     "name": "stdout",
     "output_type": "stream",
     "text": [
      "def pair_frequency(ids):\n",
      "\n",
      "  counts = {}\n",
      "  for pair in zip(ids, ids[1:]): # Pythonic way to iterate consecutive elements\n",
      "    counts[pair] = counts.get(pair, 0) + 1\n",
      "  return counts\n",
      "\n",
      "tokens = [1,2,3]\n",
      "stats = pair_frequency(tokens)\n",
      "print(stats)\n",
      "\n"
     ]
    }
   ],
   "source": [
    "userInput = \"\"\"\n",
    "def pair_frequency(ids):\n",
    "\n",
    "  counts = {}\n",
    "  for pair in zip(ids, ids[1:]): # Pythonic way to iterate consecutive elements\n",
    "    counts[pair] = counts.get(pair, 0) + 1\n",
    "  return counts\n",
    "\n",
    "tokens = [1,2,3]\n",
    "stats = pair_frequency(tokens)\n",
    "print(stats)\n",
    "\"\"\"\n",
    "\n",
    "# Find the start and end indices of the pair_frequency function\n",
    "start_index = userInput.find(\"def pair_frequency\")\n",
    "end_index = userInput.find(\"def\", start_index + 1)  # Find the next \"def\" occurrence after the start_index\n",
    "\n",
    "# If \"def\" is not found after the start_index, slice until the end of the string\n",
    "if end_index == -1:\n",
    "    end_index = len(userInput)\n",
    "\n",
    "# Slice the userInput to extract the pair_frequency function\n",
    "pair_frequency_function = userInput[start_index:end_index]\n",
    "\n",
    "print(pair_frequency_function)\n"
   ]
  },
  {
   "cell_type": "code",
   "execution_count": 26,
   "metadata": {},
   "outputs": [
    {
     "data": {
      "text/plain": [
       "'def pair_frequency(ids):\\n\\n  counts = {}\\n  for pair in zip(ids, ids[1:]): # Pythonic way to iterate consecutive elements\\n    counts[pair] = counts.get(pair, 0) + 1\\n  return counts\\n\\ntokens = [1,2,3]\\nstats = pair_frequency(tokens)\\nprint(stats)\\n'"
      ]
     },
     "execution_count": 26,
     "metadata": {},
     "output_type": "execute_result"
    }
   ],
   "source": [
    "pair_frequency_function"
   ]
  },
  {
   "cell_type": "code",
   "execution_count": 27,
   "metadata": {},
   "outputs": [
    {
     "name": "stdout",
     "output_type": "stream",
     "text": [
      "{(1, 2): 1, (2, 3): 1}\n"
     ]
    }
   ],
   "source": [
    "# Convert string back to a function using exec()\n",
    "namespace = {}\n",
    "exec(pair_frequency_function, namespace)\n",
    "pair_frequency = namespace['pair_frequency']"
   ]
  },
  {
   "cell_type": "code",
   "execution_count": 28,
   "metadata": {},
   "outputs": [
    {
     "name": "stdout",
     "output_type": "stream",
     "text": [
      "{('a', 'b'): 2, ('b', 'a'): 1, ('a', 'c'): 1, ('c', 'a'): 1}\n"
     ]
    }
   ],
   "source": [
    "\n",
    "# Now pair_frequency is a callable function\n",
    "# Example usage\n",
    "tokens = ['a', 'b', 'a', 'c', 'a', 'b']\n",
    "stats = pair_frequency(tokens)\n",
    "print(stats)  # Output will be the counts of each pair"
   ]
  },
  {
   "cell_type": "code",
   "execution_count": 21,
   "metadata": {},
   "outputs": [
    {
     "name": "stdout",
     "output_type": "stream",
     "text": [
      "match <re.Match object; span=(1, 225), match='def pair_frequency(ids):\\n\\n  counts = {}\\n  for >\n",
      "Function extracted successfully.\n"
     ]
    }
   ],
   "source": [
    "import re\n",
    "\n",
    "userInput = \"\"\"\n",
    "def pair_frequency(ids):\n",
    "\n",
    "  counts = {}\n",
    "  for pair in zip(ids, ids[1:]): # Pythonic way to iterate consecutive elements\n",
    "    counts[pair] = counts.get(pair, 0) + 1\n",
    "  return counts\n",
    "\n",
    "stats = pair_frequency(tokens)\n",
    "print(stats)\n",
    "\"\"\"\n",
    "\n",
    "# Attempt to extract the function using regex\n",
    "# This pattern assumes consistent indentation with spaces for simplicity\n",
    "# It looks for the function start, captures lines with at least one more space of indentation than the start, and stops when the indentation decreases or matches the start\n",
    "match = re.search(r\"(def pair_frequency\\(.*?\\):(?:\\n\\s+.+)+)\", userInput, re.DOTALL)\n",
    "print('match', match)\n",
    "if match:\n",
    "    pair_frequency_function = match.group(0)\n",
    "    print(\"Function extracted successfully.\")\n",
    "else:\n",
    "    print(\"Function extraction failed.\")\n",
    "\n",
    "# print('pair_frequency_function', pair_frequency_function)\n"
   ]
  },
  {
   "cell_type": "code",
   "execution_count": 13,
   "metadata": {},
   "outputs": [
    {
     "name": "stdout",
     "output_type": "stream",
     "text": [
      "Final code to be executed:\n",
      " \n",
      "def pair_frequency(ids):\n",
      "    counts = {}\n",
      "    for pair in zip(ids, ids[1:]):  # Pythonic way to iterate consecutive elements\n",
      "        counts[pair] = counts.get(pair, 0) + 1\n",
      "    return counts\n",
      "print('Test case 1:', pair_frequency([104, 101, 108, 108, 111]))\n",
      "print('Test case 2:', pair_frequency(['a', 'b', 'c', 'a', 'b']))\n",
      "print('Test case 3:', pair_frequency([1, 2, 2, 3, 3, 3]))\n",
      "\n",
      "Output: Test case 1: {(104, 101): 1, (101, 108): 1, (108, 108): 1, (108, 111): 1}\n",
      "Test case 2: {('a', 'b'): 2, ('b', 'c'): 1, ('c', 'a'): 1}\n",
      "Test case 3: {(1, 2): 1, (2, 2): 1, (2, 3): 1, (3, 3): 2}\n",
      "\n"
     ]
    }
   ],
   "source": [
    "# Base function definition as a string\n",
    "base_code = \"\"\"\n",
    "def pair_frequency(ids):\n",
    "    counts = {}\n",
    "    for pair in zip(ids, ids[1:]):  # Pythonic way to iterate consecutive elements\n",
    "        counts[pair] = counts.get(pair, 0) + 1\n",
    "    return counts\n",
    "\"\"\"\n",
    "\n",
    "# Example test cases as Python lists or similar data structures\n",
    "test_cases = [\n",
    "    [104, 101, 108, 108, 111],\n",
    "    ['a', 'b', 'c', 'a', 'b'],\n",
    "    [1, 2, 2, 3, 3, 3]\n",
    "]\n",
    "function_name = 'pair_frequency'\n",
    "# Append test cases to the base code as print statements\n",
    "for index, test_case in enumerate(test_cases):\n",
    "    # Properly format the list into a string representation for the code\n",
    "    formatted_test_case = str(test_case)\n",
    "    base_code += f\"print('Test case {index+1}:', {function_name}({formatted_test_case}))\\n\"\n",
    "\n",
    "# This is the final code that will be executed\n",
    "print(\"Final code to be executed:\\n\", base_code)\n",
    "\n",
    "import subprocess\n",
    "\n",
    "try:\n",
    "    # Execute the modified code using subprocess\n",
    "    output = subprocess.check_output(['python3', '-c', base_code], text=True)\n",
    "    print('Output:', output)\n",
    "except subprocess.CalledProcessError as e:\n",
    "    print('Error:', e.output)\n",
    "\n"
   ]
  },
  {
   "cell_type": "code",
   "execution_count": null,
   "metadata": {},
   "outputs": [],
   "source": []
  },
  {
   "cell_type": "code",
   "execution_count": 14,
   "metadata": {},
   "outputs": [
    {
     "name": "stdout",
     "output_type": "stream",
     "text": [
      "Successfully converted: <class 'dict'> {(239, 188): 1, (188, 181): 1}\n",
      "Processed result: {(239, 188): 1, (188, 181): 1}\n",
      "Successfully converted: <class 'list'> [1, 2, 3]\n",
      "Processed result: [1, 2, 3]\n",
      "Successfully converted: <class 'str'> Hello, world!\n",
      "Processed result: Hello, world!\n",
      "Failed to convert. The string may not be a valid Python literal or may be malformed: invalid syntax (<unknown>, line 1)\n",
      "Processed result: None\n",
      "Successfully converted: <class 'int'> 42\n",
      "Processed result: 42\n"
     ]
    }
   ],
   "source": [
    "import ast\n",
    "\n",
    "def safe_eval(output_str):\n",
    "    try:\n",
    "        # Attempt to evaluate the string as a Python literal\n",
    "        result = ast.literal_eval(output_str)\n",
    "        print(\"Successfully converted:\", type(result), result)\n",
    "        return result\n",
    "    except (SyntaxError, ValueError) as e:\n",
    "        # Handle cases where the string is not a valid Python literal\n",
    "        print(\"Failed to convert. The string may not be a valid Python literal or may be malformed:\", str(e))\n",
    "        return None\n",
    "    except Exception as e:\n",
    "        # Catch-all for any other unexpected exceptions\n",
    "        print(\"An unexpected error occurred:\", str(e))\n",
    "        return None\n",
    "\n",
    "# Example usage with possible outputs\n",
    "outputs = [\n",
    "    \"{(239, 188): 1, (188, 181): 1}\",\n",
    "    \"[1, 2, 3]\",\n",
    "    \"'Hello, world!'\",\n",
    "    \"malformed {123, 456\",\n",
    "    \"42\"\n",
    "]\n",
    "\n",
    "for output in outputs:\n",
    "    result = safe_eval(output)\n",
    "    print(\"Processed result:\", result)\n"
   ]
  },
  {
   "cell_type": "code",
   "execution_count": 15,
   "metadata": {},
   "outputs": [
    {
     "name": "stdout",
     "output_type": "stream",
     "text": [
      "Extracted Function Code:\n",
      "def pair_frequency(ids):\n",
      "    counts = {}\n",
      "    for pair in zip(ids, ids[1:]):\n",
      "        counts[pair] = counts.get(pair, 0) + 1\n",
      "    return counts\n",
      "\n",
      "result = pair_frequency([104, 101, 108, 108, 111])\n"
     ]
    }
   ],
   "source": [
    "import re\n",
    "\n",
    "code = \"\"\"\n",
    "def pair_frequency(ids):\n",
    "    counts = {}\n",
    "    for pair in zip(ids, ids[1:]):\n",
    "        counts[pair] = counts.get(pair, 0) + 1\n",
    "    return counts\n",
    "\n",
    "result = pair_frequency([104, 101, 108, 108, 111])\n",
    "print(result)\n",
    "\n",
    "def another_function(params):\n",
    "    # This won't be matched as it's not the first function\n",
    "    pass\n",
    "\"\"\"\n",
    "\n",
    "# Regex to extract the first function definition and its content\n",
    "pattern = r\"(def \\w+\\(.*?\\):\\s*((?:\\n\\s+.*)+))\"\n",
    "match = re.search(pattern, code, re.MULTILINE)\n",
    "\n",
    "if match:\n",
    "    function_code = match.group(0)\n",
    "    print(\"Extracted Function Code:\")\n",
    "    print(function_code)\n",
    "else:\n",
    "    print(\"No function definition found.\")\n"
   ]
  },
  {
   "cell_type": "code",
   "execution_count": 23,
   "metadata": {},
   "outputs": [
    {
     "name": "stdout",
     "output_type": "stream",
     "text": [
      "None\n"
     ]
    }
   ],
   "source": [
    "import ast\n",
    "import inspect\n",
    "\n",
    "code = \"\"\"\n",
    "# Some comments or other code\n",
    "def pair_frequency(ids):\n",
    "    counts = {}\n",
    "    for pair in zip(ids, ids[1:]):  # Iterating over pairs\n",
    "        counts[pair] = counts.get(pair, 0) + 1\n",
    "    return counts  # Return statement\n",
    "\n",
    "pair_frequency([104, 101, 108, 108, 111])\n",
    "# Another function or code\n",
    "result = pair_frequency([104, 101, 108, 108, 111])\n",
    "print(result)\n",
    "\"\"\"\n",
    "\n",
    "def extract_first_function(code):\n",
    "    # Parse the code into an AST\n",
    "    tree = ast.parse(code)\n",
    "\n",
    "    # Initialize a visitor that will find function definitions\n",
    "    class FunctionVisitor(ast.NodeVisitor):\n",
    "        def visit_FunctionDef(self, node):\n",
    "            # Using unparse to get the source code of the first function\n",
    "            return ast.unparse(node)\n",
    "            # Stop visiting after the first function\n",
    "            raise StopIteration\n",
    "    \n",
    "    try:\n",
    "        # Create a visitor instance and visit the nodes\n",
    "        visitor = FunctionVisitor()\n",
    "        visitor.visit(tree)\n",
    "    except StopIteration:\n",
    "        pass\n",
    "\n",
    "# Call the function to extract the first function\n",
    "my_function = extract_first_function(code)\n",
    "print(my_function)\n"
   ]
  },
  {
   "cell_type": "code",
   "execution_count": null,
   "metadata": {},
   "outputs": [],
   "source": []
  }
 ],
 "metadata": {
  "kernelspec": {
   "display_name": "Python 3",
   "language": "python",
   "name": "python3"
  },
  "language_info": {
   "codemirror_mode": {
    "name": "ipython",
    "version": 3
   },
   "file_extension": ".py",
   "mimetype": "text/x-python",
   "name": "python",
   "nbconvert_exporter": "python",
   "pygments_lexer": "ipython3",
   "version": "3.9.1"
  }
 },
 "nbformat": 4,
 "nbformat_minor": 2
}
